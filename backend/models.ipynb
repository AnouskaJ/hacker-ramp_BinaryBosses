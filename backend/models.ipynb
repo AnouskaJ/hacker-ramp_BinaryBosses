{
 "cells": [
  {
   "cell_type": "code",
   "execution_count": null,
   "metadata": {},
   "outputs": [],
   "source": [
    "# Recommendation System 1 - from personal images\n",
    "# Input: Image of the clothes that they wear and love\n",
    "# Output: Sugget them clothes from our website that match their vibe"
   ]
  },
  {
   "cell_type": "code",
   "execution_count": null,
   "metadata": {},
   "outputs": [],
   "source": [
    "# Recommendation System 2 - from product image\n",
    "# Input: Product Image\n",
    "# Output: Suggest them the entire wardrobe(outfit) (tshirt, bottomwear, shoes) based on the product selected"
   ]
  },
  {
   "cell_type": "code",
   "execution_count": null,
   "metadata": {},
   "outputs": [],
   "source": [
    "# Sustainability Analysis Model\n",
    "# Input: Based on product material give it a score\n",
    "# Output: Categorize products into three levels of sustainability (low, medium, high)."
   ]
  },
  {
   "cell_type": "code",
   "execution_count": null,
   "metadata": {},
   "outputs": [],
   "source": [
    "# Questionnaire-Based Recommendation Model\n",
    "# Input: Clothes choice from either or of images\n",
    "# Output: Products based on their choices"
   ]
  },
  {
   "cell_type": "code",
   "execution_count": null,
   "metadata": {},
   "outputs": [],
   "source": [
    "# Product categories\n",
    "# Input: images of the products on our website\n",
    "# Output: Categorise for different fashion categories (gothic, cosplay, aesthetic)."
   ]
  }
 ],
 "metadata": {
  "language_info": {
   "name": "python"
  }
 },
 "nbformat": 4,
 "nbformat_minor": 2
}
