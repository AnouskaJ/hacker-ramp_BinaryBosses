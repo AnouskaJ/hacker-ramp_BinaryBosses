{
 "cells": [
  {
   "cell_type": "code",
   "execution_count": null,
   "metadata": {},
   "outputs": [],
   "source": [
    "import os\n",
    "# Replace this with your HF token\n",
    "os.environ[\"HUGGINGFACE_ACCESS_TOKEN\"] = \"hf_xxxx\"\n",
    "\n",
    "from embedchain import App\n",
    "\n",
    "config = {\n",
    "  'llm': {\n",
    "    'provider': 'huggingface',\n",
    "    'config': {\n",
    "      'model': 'mistralai/Mistral-7B-Instruct-v0.2',\n",
    "      'top_p': 0.5\n",
    "    }\n",
    "  },\n",
    "  'embedder': {\n",
    "    'provider': 'huggingface',\n",
    "    'config': {\n",
    "      'model': 'sentence-transformers/all-mpnet-base-v2'\n",
    "    }\n",
    "  }\n",
    "}\n",
    "app = App.from_config(config=config)\n",
    "app.add(\"https://www.forbes.com/profile/elon-musk\")\n",
    "app.add(\"https://en.wikipedia.org/wiki/Elon_Musk\")\n",
    "app.query(\"What is the net worth of Elon Musk today?\")\n",
    "# Answer: The net worth of Elon Musk today is $258.7 billion.\n"
   ]
  }
 ],
 "metadata": {
  "language_info": {
   "name": "python"
  }
 },
 "nbformat": 4,
 "nbformat_minor": 2
}
